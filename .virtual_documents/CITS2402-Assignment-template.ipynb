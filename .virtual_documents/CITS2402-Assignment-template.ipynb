








# Your work starts here...





#Loading the libraries
import matplotlib.pyplot as plt
import pandas as pd
import numpy as np






# Constants pointing to the file paths
# The first two are for Australia, and the last one is for New Zealand
Aus_DATA_A = 'dataset/2021Census_G17C_AUS_AUS.csv'
Aus_DATA_B = 'dataset/2021Census_G49B_AUS_AUS.csv'
NZ_DATA = 'dataset/STATSNZ,CEN18_WRK_017,1.0+all.csv'

# Reading data
# A and B are for Australia, A is Income data, and B is Education data. C is New Zealand census data
data_a = pd.read_csv(Aus_DATA_A)
data_b = pd.read_csv(Aus_DATA_B)
data_c = pd.read_csv(NZ_DATA,low_memory=False)


# Data Preprocessing


# AUstralia-Income


# Reshape the dataset using melt
df_income= pd.melt(data_a, id_vars=['AUS_CODE_2021'], 
                         var_name='Age_Income', value_name='Count')
# Print the data to have a further look
print(df_income)


# Remove rows containing 'Total' in the column 'Age_Income'
remove = df_income[df_income["Age_Income"].str.contains("Tot")].index
df_income_new = df_income.drop(remove)
# Remove rows containing 'NS' in the column 'Age_Income'
remove2 = df_income_new[df_income_new["Age_Income"].str.contains("NS")].index
df_income_new2 = df_income_new.drop(remove2)


# Extract 'Income_Range' from 'Age_Income' column using the pattern of the data
df_income_new2["Income_Range"]=df_income_new2["Age_Income"].str.extract(r'(\d+_\d+|3500_more)')
# Extract 'Age_Group' from 'Age_Income' column using the pattern of the data
df_income_new2["Age_Group"]=df_income_new2["Age_Income"].str.extract(r'(\d+_\d+)_yrs?') 
# Noticed that it didn't extract Age Group of '85ov'
# knowing that there was no missing data in the original dataset, fill the missing value with '85ov'
df_income_new2["Age_Group"].fillna('85ov',inplace=True)
# Drop the original column after extracting
df_income_new2.drop(columns=['Age_Income'],inplace=True)


df_income_new2.drop(columns=['Age_Income'],inplace=True)


# Print the dataframe to check the result
print(df_income_new2)


# Australia - Education


# Reshape the data using melt
df_education = pd.melt(data_b, id_vars=['AUS_CODE_2021'], 
                         var_name='Education_Age', value_name='Count2')
# Print the data to have a further look
print(df_education.head())


# Remove rows with certain irrelevant values ('NS','IDes','Tot','nfd') in the 'Education_Age' column
df_edu_new=df_education[~df_education['Education_Age'].str.contains('NS|IDes|Tot|nfd')]


# Create a copy of the dataset
df_edu_new=df_edu_new.copy()
# Create and extract 'Age_Group' from 'Education_Age' using its patterns
df_edu_new.loc[:,"Age_Group"]=df_edu_new["Education_Age"].str.extract(r'(\d{2}_\d{2}|85ov)')
# Remove the prefix 'P_' in each row of the 'Education_Age' column using its pattern
df_edu_new['Education_Age']=df_edu_new['Education_Age'].str.replace(r'P_','',regex=True)
 # Remove the age group from each row of 'Education_Age'
df_edu_new['Education_Age']=df_edu_new['Education_Age'].str.replace(r'(_\d{2}_\d{2}|_\d{2}ov)$','',regex=True)
# Rename 'Education_Age' to 'Education_Level'
df_edu_new.rename(columns={'Education_Age':'Education_Level'},inplace=True)


# Sum the population in each Educatio Level Group, for future use
sum_by_education = df_edu_new.groupby('Education_Level')['Count2'].sum().reset_index()
# Display the result
print(sum_by_education)


# Print the cleaned data for Income
print(df_income_new2.head())


# Print the cleaned data for Education
print(df_edu_new.head())


# Merge the Education data and the Income data, using Age_Group
merged_data=pd.merge(df_edu_new,df_income_new2,on='Age_Group', how='inner')
merged_data


# Calculate the total population by Age Group
total_population_by_age = df_edu_new.groupby('Age_Group')['Count2'].sum().reset_index()
total_population_by_age.columns = ['Age_Group', 'Total']

# Merge total population with the Income Data
merged_income = df_income_new2.merge(total_population_by_age, on='Age_Group')

# Merge Education and Income data for further analysis
merged_data = df_edu_new.merge(merged_income, on='Age_Group', how='inner')

# Calculate estimated counts of individuals in each Education Level within Income Groups
merged_data['Estimated_Count'] = (merged_data['Count2'] / merged_data['Total']) * merged_data['Count']


# Function to calculate the average within an Income Range
def calculate_average(income_range):
    if income_range == '0':
        average = int(income_range)
    elif 'more' not in income_range :
        bounds=[]
        if '-' in income_range:
            bounds = income_range.split('-')
        elif '_' in income_range:
            bounds= income_range.split('_')
        average = (int(bounds[0])+int(bounds[1]))/2
    else:
        if '_' in income_range:
            income=income_range.replace('_more','')
        else:
            income = income_range.replace(' or more','')
        average = int(income)
    return average


# Apply the calculate_average function to each Income_Range, store it in a column called Income_Average
merged_data['Income_Average']=merged_data['Income_Range'].apply(calculate_average)
# Calculate the contribution using this formula: Average Income * Estimated Count
merged_data['Contribution']=merged_data['Income_Average']*merged_data['Estimated_Count']
# Group by Education Level and Age Group to sum the Total Weighted Income
grouped_data = merged_data.groupby(['Education_Level', 'Age_Group']).agg(Tot_weighted_income=('Contribution', 'sum')).reset_index()
# Group by Education Level to sum the Total Weighted Income
merged_new=grouped_data.groupby('Education_Level').agg(
    Tot_weighted_income=('Tot_weighted_income','sum')).reset_index()
# Create a column containing the total number of people in each Education Level, using the dataframe created earlier
merged_new["New_Tot_People"] = sum_by_education["Count2"]
# Create a column called Weighted_Ave storing the Weighted Average Income which is rounded to 3 decimal
# Calculate the Weighted Average Income for each Education Level using this formula:Total Weighted Income / Total Number of People 
merged_new['Weighted_Ave']=np.round(merged_new['Tot_weighted_income']/merged_new['New_Tot_People'],3)
# Drop not necessary columns
merged_new.drop(columns='Tot_weighted_income',inplace=True)
merged_new.drop(columns='New_Tot_People',inplace=True)


# Print the data
print(merged_new)


merged_new.to_csv('b.csv', index=False)


# Print the first few rows of the New Zealand data to understand its structure
print(data_c.head())


# Filter the rows for 2018
data_c_in2018=data_c[data_c["YEAR_CEN18_WRK_017: Year"]==2018]
print(data_c_in2018.head())


# Select columns relevant to the analysis
rename_c = data_c_in2018[
    ['HIGHESTQUALS_CEN18_WRK_017: Highest qualification',
     'INCOME_CEN18_WRK_017: Total personal income',
    'OBS_VALUE']
]

# Rename columns
rename_c = rename_c.rename(columns={
    'HIGHESTQUALS_CEN18_WRK_017: Highest qualification': 'Education_Level',
    'INCOME_CEN18_WRK_017: Total personal income': 'Income_Range',
    'OBS_VALUE':'Count'
})


# Filter out rows with irrelevant data in 'Income_Range' using its pattern
Filtered_c = rename_c[~rename_c['Income_Range'].str.contains(r'7777:|99:|999:|11:')]
# Filter out rows with irrelevant data in 'Education_Level' using its pattern
Filtered_c_new = Filtered_c[~Filtered_c['Education_Level'].str.contains(r'7777:|999:|9999:',regex=True)]

# Shorten the values for Education_Level and Income_Range
Filtered_c_new=Filtered_c_new.copy()
# Split the values using ': ', and only extract the part after ': '
Filtered_c_new['Education_Level']=Filtered_c_new['Education_Level'].str.split(': ').str[1]
Filtered_c_new['Income_Range']=Filtered_c_new['Income_Range'].str.split(': ').str[1]


# Function to clean the Income_Range, which will remove unnecessary characters or replace by number
def clean_income(income_range):
    if '$' in income_range:
        income_range=income_range.replace('$','')
    elif income_range == 'Zero income':
        income_range = income_range.replace('Zero income','0')
    income_range = income_range.replace(',','')
    return income_range


# Clean each row of the Income_Range using the function clean_income
Filtered_c_new['Income_Range']=Filtered_c_new['Income_Range'].apply(clean_income)


# Double check whether the values are cleaned 
unique_age_groups = Filtered_c_new['Income_Range'].unique()
print(unique_age_groups)
unique_age_groups2 = Filtered_c_new['Education_Level'].unique()
print(unique_age_groups2)


# For the comparison with Australia, combine some categories into one, rename some Education Level
Filtered_c_new['Education_Level']=Filtered_c_new['Education_Level'].replace({'Level 1 certificate':'Level 1 & 2 certificate',
                                                                             'Level 2 certificate':'Level 1 & 2 certificate',
                                                                             'Level 3 certificate':'Level 3 & 4 certificate',
                                                                             'Level 4 certificate':'Level 3 & 4 certificate',
                                                                             'Level 5 diploma':'Level 5 & 6 diploma',
                                                                             'Level 6 diploma':'Level 5 & 6 diploma'})
# Combine them
grouped_c = Filtered_c_new.groupby(['Education_Level','Income_Range'],as_index=False)


# Sum the total population in each Education Level
filtered_grouped_c = grouped_c['Count'].sum()
# Calculate the Income_Average using function calculate_average
filtered_grouped_c['Income_Average']=filtered_grouped_c['Income_Range'].apply(calculate_average)
# Calculate the Contribution
filtered_grouped_c['Contribution']=filtered_grouped_c['Income_Average']*filtered_grouped_c['Count']
# Sum Total Weighted Income and Population in each Education Level
Weighted_Income_C=filtered_grouped_c.groupby('Education_Level').agg(
    Tot_weighted_income=('Contribution','sum'),Tot_people=('Count','sum')).reset_index()
# Calculate Weighted Average Income for each Education Level
Weighted_Income_C['Weighted_Ave']=Weighted_Income_C['Tot_weighted_income']/Weighted_Income_C['Tot_people']
# The current value is annual
# divided into the number of weeks in 2018 which is 52 weeks with 1 day to get weekly weighted income
Weighted_Income_C['Weighted_Ave']=np.round(Weighted_Income_C['Weighted_Ave']/52.1429,3)


# Drop unnecessary column
Weighted_Income_C.drop(columns=['Tot_weighted_income'],inplace=True)
Weighted_Income_C.drop(columns=['Tot_people'],inplace=True)


print(Weighted_Income_C)


# hij
Weighted_Income_C.to_csv('Weighted_Income_C.csv', index=False)


# visualization
# Plot the relationship between education level and average income



# Get the cleaned data
education = Weighted_Income_C['Education_Level'].tolist()
income = Weighted_Income_C['Weighted_Ave'].tolist()


# Create the bar chart
plt.figure(figsize=(10,6)) 
# Choose Blue as the color of the bar
plt.bar(education, income, color='blue')

# Add labels and title to make the chart clearer
plt.xlabel('Education Level')
plt.ylabel('Income')
plt.title('Relationship Between Education Level And Income')
 # Rotate x-axis labels for better readability
plt.xticks(rotation=90) 

# Display the chart
plt.show()



# Get the cleaned data
education = merged_new['Education_Level'].tolist()
income = merged_new['Weighted_Ave'].tolist()

# Create the bar chart
plt.figure(figsize=(10,6))  # Adjust the figure size as needed
# Choose Red as the color of the bar
plt.bar(education, income, color='red')  

# Add labels and title to make the chart clearer
plt.xlabel('Education Level')
plt.ylabel('Income')
plt.title('Relationship Between Education Level And Income')
# Rotate x-axis labels for better readability
plt.xticks(rotation=90)  

# Display the chart
plt.show()

