{
 "cells": [
  {
   "cell_type": "markdown",
   "metadata": {
    "collapsed": false,
    "jupyter": {
     "outputs_hidden": false
    }
   },
   "source": [
    "## CITS2402 - Introduction to Data Science - Assignment.\n",
    "\n",
    "### Comparing Demographic Trends in Australian and New Zealand Census Data\n",
    "\n",
    "**Date:** August 2024."
   ]
  },
  {
   "cell_type": "markdown",
   "metadata": {
    "collapsed": false,
    "deletable": false,
    "jupyter": {
     "outputs_hidden": false
    }
   },
   "source": [
    "## Declaration\n",
    "\n",
    "This declaration should be completed and remain attached to the top of your submission.\n",
    "\n",
    "*I/we am/are aware of the University’s [policy on academic conduct](https://www.uwa.edu.au/policy/-/media/Project/UWA/UWA/Policy-Library/Policy/Student-Administration/Academic-Integrity/Academic-Integrity-Policy.doc) and I declare that this assignment is entirely the work of the author(s) listed below and that suitable acknowledgement has been made for any sources of information used in preparing it. I have retained a copy for my own records.*\n",
    "\n",
    "- Name 1:\n",
    "- Student ID 1:\n",
    "- Name 2:\n",
    "- Student ID 2:\n",
    "- Name 3:\n",
    "- Student ID 3:\n",
    "- Date:\n"
   ]
  },
  {
   "cell_type": "markdown",
   "metadata": {
    "collapsed": false,
    "jupyter": {
     "outputs_hidden": false
    },
    "nbgrader": {
     "grade": false,
     "grade_id": "assignment",
     "locked": true,
     "points": 25,
     "schema_version": 3,
     "solution": false,
     "task": true
    }
   },
   "source": [
    "The suffix `-template` should be replaced with the corresponding student numbers. For instance, if you are doing your assignment with another person, you should rename your file as `CITS2402-Assignment-STDNO1-STDNO2.ipynb`, where 'STDNO1' and 'STDNO2' are the corresponding student numbers involved in the submission. \n",
    "\n",
    "<hr>\n"
   ]
  },
  {
   "cell_type": "code",
   "execution_count": 2,
   "metadata": {
    "collapsed": false,
    "jupyter": {
     "outputs_hidden": false
    }
   },
   "outputs": [],
   "source": [
    "# Your work starts here..."
   ]
  },
  {
   "cell_type": "markdown",
   "metadata": {},
   "source": [
    "### topic\n",
    "description of the topic\n"
   ]
  },
  {
   "cell_type": "code",
   "execution_count": 1,
   "metadata": {},
   "outputs": [],
   "source": [
    "#Loading the libraries\n",
    "import matplotlib.pyplot as plt\n",
    "import pandas as pd\n",
    "import numpy as np"
   ]
  },
  {
   "cell_type": "markdown",
   "metadata": {},
   "source": [
    "### Data Acquisition\n",
    "**Steps to download the raw data for New Zealand:**\n",
    "* A\n",
    "  * 123\n",
    "* B"
   ]
  },
  {
   "cell_type": "code",
   "execution_count": null,
   "metadata": {},
   "outputs": [],
   "source": [
    "\n",
    "# Constants pointing to the file paths\n",
    "# The first two are for Australia, and the last one is for New Zealand\n",
    "Aus_DATA_A = 'dataset/2021Census_G17C_AUS_AUS.csv'\n",
    "Aus_DATA_B = 'dataset/2021Census_G49B_AUS_AUS.csv'\n",
    "NZ_DATA = 'dataset/STATSNZ,CEN18_WRK_017,1.0+all.csv'\n",
    "\n",
    "# Reading data\n",
    "# A and B are for Australia, A is Income data, and B is Education data. C is New Zealand census data\n",
    "data_a = pd.read_csv(Aus_DATA_A)\n",
    "data_b = pd.read_csv(Aus_DATA_B)\n",
    "data_c = pd.read_csv(NZ_DATA,low_memory=False)"
   ]
  },
  {
   "cell_type": "code",
   "execution_count": null,
   "metadata": {},
   "outputs": [],
   "source": [
    "# Data Preprocessing"
   ]
  },
  {
   "cell_type": "code",
   "execution_count": null,
   "metadata": {},
   "outputs": [],
   "source": [
    "# AUstralia-Income"
   ]
  },
  {
   "cell_type": "code",
   "execution_count": 4,
   "metadata": {},
   "outputs": [],
   "source": [
    "# Reshape the dataset using melt\n",
    "df_income= pd.melt(data_a, id_vars=['AUS_CODE_2021'], \n",
    "                         var_name='Age_Income', value_name='Count')\n",
    "# Print the data to have a further look\n",
    "print(df_income)"
   ]
  },
  {
   "cell_type": "code",
   "execution_count": 6,
   "metadata": {},
   "outputs": [],
   "source": [
    "# Remove rows containing 'Total' in the column 'Age_Income'\n",
    "remove = df_income[df_income[\"Age_Income\"].str.contains(\"Tot\")].index\n",
    "df_income_new = df_income.drop(remove)\n",
    "# Remove rows containing 'NS' in the column 'Age_Income'\n",
    "remove2 = df_income_new[df_income_new[\"Age_Income\"].str.contains(\"NS\")].index\n",
    "df_income_new2 = df_income_new.drop(remove2)"
   ]
  },
  {
   "cell_type": "code",
   "execution_count": 12,
   "metadata": {},
   "outputs": [],
   "source": [
    "# Extract 'Income_Range' from 'Age_Income' column using the pattern of the data\n",
    "df_income_new2[\"Income_Range\"]=df_income_new2[\"Age_Income\"].str.extract(r'(\\d+_\\d+|3500_more)')\n",
    "# Extract 'Age_Group' from 'Age_Income' column using the pattern of the data\n",
    "df_income_new2[\"Age_Group\"]=df_income_new2[\"Age_Income\"].str.extract(r'(\\d+_\\d+)_yrs?') \n",
    "# Noticed that it didn't extract Age Group of '85ov'\n",
    "# knowing that there was no missing data in the original dataset, fill the missing value with '85ov'\n",
    "df_income_new2[\"Age_Group\"].fillna('85ov',inplace=True)\n",
    "# Drop the original column after extracting\n",
    "df_income_new2.drop(columns=['Age_Income'],inplace=True)"
   ]
  },
  {
   "cell_type": "code",
   "execution_count": 15,
   "metadata": {},
   "outputs": [],
   "source": [
    "df_income_new2.drop(columns=['Age_Income'],inplace=True)"
   ]
  },
  {
   "cell_type": "code",
   "execution_count": 111,
   "metadata": {},
   "outputs": [
    {
     "name": "stdout",
     "output_type": "stream",
     "text": [
      "   AUS_CODE_2021   Count Income_Range Age_Group\n",
      "0            AUS   42444      650_799     15_19\n",
      "1            AUS  183103      650_799     20_24\n",
      "2            AUS  272206      650_799     25_34\n",
      "3            AUS  216035      650_799     35_44\n",
      "4            AUS  200176      650_799     45_54\n",
      "..           ...     ...          ...       ...\n",
      "84           AUS  217431    3500_more     45_54\n",
      "85           AUS  129487    3500_more     55_64\n",
      "86           AUS   43037    3500_more     65_74\n",
      "87           AUS   14948    3500_more     75_84\n",
      "88           AUS    4614    3500_more      85ov\n",
      "\n",
      "[81 rows x 4 columns]\n"
     ]
    }
   ],
   "source": [
    "# Print the dataframe to check the result\n",
    "print(df_income_new2)"
   ]
  },
  {
   "cell_type": "code",
   "execution_count": 19,
   "metadata": {},
   "outputs": [],
   "source": [
    "# Australia - Education"
   ]
  },
  {
   "cell_type": "code",
   "execution_count": 109,
   "metadata": {},
   "outputs": [
    {
     "name": "stdout",
     "output_type": "stream",
     "text": [
      "  AUS_CODE_2021      Education_Age  Count2\n",
      "0           AUS  P_PGrad_Deg_35_44  398318\n",
      "1           AUS  P_PGrad_Deg_45_54  247742\n",
      "2           AUS  P_PGrad_Deg_55_64  169407\n",
      "3           AUS  P_PGrad_Deg_65_74  106963\n",
      "4           AUS  P_PGrad_Deg_75_84   38322\n"
     ]
    }
   ],
   "source": [
    "# Reshape the data using melt\n",
    "df_education = pd.melt(data_b, id_vars=['AUS_CODE_2021'], \n",
    "                         var_name='Education_Age', value_name='Count2')\n",
    "# Print the data to have a further look\n",
    "print(df_education.head())"
   ]
  },
  {
   "cell_type": "code",
   "execution_count": 24,
   "metadata": {},
   "outputs": [],
   "source": [
    "# Remove rows with certain irrelevant values ('NS','IDes','Tot','nfd') in the 'Education_Age' column\n",
    "df_edu_new=df_education[~df_education['Education_Age'].str.contains('NS|IDes|Tot|nfd')]"
   ]
  },
  {
   "cell_type": "code",
   "execution_count": 29,
   "metadata": {},
   "outputs": [],
   "source": [
    "# Create a copy of the dataset\n",
    "df_edu_new=df_edu_new.copy()\n",
    "# Create and extract 'Age_Group' from 'Education_Age' using its patterns\n",
    "df_edu_new.loc[:,\"Age_Group\"]=df_edu_new[\"Education_Age\"].str.extract(r'(\\d{2}_\\d{2}|85ov)')\n",
    "# Remove the prefix 'P_' in each row of the 'Education_Age' column using its pattern\n",
    "df_edu_new['Education_Age']=df_edu_new['Education_Age'].str.replace(r'P_','',regex=True)\n",
    " # Remove the age group from each row of 'Education_Age'\n",
    "df_edu_new['Education_Age']=df_edu_new['Education_Age'].str.replace(r'(_\\d{2}_\\d{2}|_\\d{2}ov)$','',regex=True)\n",
    "# Rename 'Education_Age' to 'Education_Level'\n",
    "df_edu_new.rename(columns={'Education_Age':'Education_Level'},inplace=True)"
   ]
  },
  {
   "cell_type": "code",
   "execution_count": 38,
   "metadata": {},
   "outputs": [
    {
     "name": "stdout",
     "output_type": "stream",
     "text": [
      "        Education_Level   Count2\n",
      "0        AdvDip_and_Dip  1946731\n",
      "1               BachDeg  3609259\n",
      "2           Cert_III_IV  3340083\n",
      "3             Cert_I_II   252191\n",
      "4  GradDip_and_GradCert   495951\n",
      "5             PGrad_Deg   967786\n",
      "10612001\n"
     ]
    }
   ],
   "source": [
    "# Sum the population in each Educatio Level Group, for future use\n",
    "sum_by_education = df_edu_new.groupby('Education_Level')['Count2'].sum().reset_index()\n",
    "# Display the result\n",
    "print(sum_by_education)"
   ]
  },
  {
   "cell_type": "code",
   "execution_count": 108,
   "metadata": {},
   "outputs": [
    {
     "name": "stdout",
     "output_type": "stream",
     "text": [
      "  AUS_CODE_2021   Count Income_Range Age_Group\n",
      "0           AUS   42444      650_799     15_19\n",
      "1           AUS  183103      650_799     20_24\n",
      "2           AUS  272206      650_799     25_34\n",
      "3           AUS  216035      650_799     35_44\n",
      "4           AUS  200176      650_799     45_54\n"
     ]
    }
   ],
   "source": [
    "# Print the cleaned data for Income\n",
    "print(df_income_new2.head())"
   ]
  },
  {
   "cell_type": "code",
   "execution_count": 107,
   "metadata": {},
   "outputs": [
    {
     "name": "stdout",
     "output_type": "stream",
     "text": [
      "  AUS_CODE_2021 Education_Level  Count2 Age_Group\n",
      "0           AUS       PGrad_Deg  398318     35_44\n",
      "1           AUS       PGrad_Deg  247742     45_54\n",
      "2           AUS       PGrad_Deg  169407     55_64\n",
      "3           AUS       PGrad_Deg  106963     65_74\n",
      "4           AUS       PGrad_Deg   38322     75_84\n"
     ]
    }
   ],
   "source": [
    "# Print the cleaned data for Education\n",
    "print(df_edu_new.head())"
   ]
  },
  {
   "cell_type": "code",
   "execution_count": 41,
   "metadata": {},
   "outputs": [
    {
     "data": {
      "text/html": [
       "<div>\n",
       "<style scoped>\n",
       "    .dataframe tbody tr th:only-of-type {\n",
       "        vertical-align: middle;\n",
       "    }\n",
       "\n",
       "    .dataframe tbody tr th {\n",
       "        vertical-align: top;\n",
       "    }\n",
       "\n",
       "    .dataframe thead th {\n",
       "        text-align: right;\n",
       "    }\n",
       "</style>\n",
       "<table border=\"1\" class=\"dataframe\">\n",
       "  <thead>\n",
       "    <tr style=\"text-align: right;\">\n",
       "      <th></th>\n",
       "      <th>AUS_CODE_2021_x</th>\n",
       "      <th>Education_Level</th>\n",
       "      <th>Count2</th>\n",
       "      <th>Age_Group</th>\n",
       "      <th>AUS_CODE_2021_y</th>\n",
       "      <th>Count</th>\n",
       "      <th>Income_Range</th>\n",
       "    </tr>\n",
       "  </thead>\n",
       "  <tbody>\n",
       "    <tr>\n",
       "      <th>0</th>\n",
       "      <td>AUS</td>\n",
       "      <td>PGrad_Deg</td>\n",
       "      <td>398318</td>\n",
       "      <td>35_44</td>\n",
       "      <td>AUS</td>\n",
       "      <td>216035</td>\n",
       "      <td>650_799</td>\n",
       "    </tr>\n",
       "    <tr>\n",
       "      <th>1</th>\n",
       "      <td>AUS</td>\n",
       "      <td>PGrad_Deg</td>\n",
       "      <td>398318</td>\n",
       "      <td>35_44</td>\n",
       "      <td>AUS</td>\n",
       "      <td>292552</td>\n",
       "      <td>800_999</td>\n",
       "    </tr>\n",
       "    <tr>\n",
       "      <th>2</th>\n",
       "      <td>AUS</td>\n",
       "      <td>PGrad_Deg</td>\n",
       "      <td>398318</td>\n",
       "      <td>35_44</td>\n",
       "      <td>AUS</td>\n",
       "      <td>366480</td>\n",
       "      <td>1000_1249</td>\n",
       "    </tr>\n",
       "    <tr>\n",
       "      <th>3</th>\n",
       "      <td>AUS</td>\n",
       "      <td>PGrad_Deg</td>\n",
       "      <td>398318</td>\n",
       "      <td>35_44</td>\n",
       "      <td>AUS</td>\n",
       "      <td>306625</td>\n",
       "      <td>1250_1499</td>\n",
       "    </tr>\n",
       "    <tr>\n",
       "      <th>4</th>\n",
       "      <td>AUS</td>\n",
       "      <td>PGrad_Deg</td>\n",
       "      <td>398318</td>\n",
       "      <td>35_44</td>\n",
       "      <td>AUS</td>\n",
       "      <td>296117</td>\n",
       "      <td>1500_1749</td>\n",
       "    </tr>\n",
       "    <tr>\n",
       "      <th>...</th>\n",
       "      <td>...</td>\n",
       "      <td>...</td>\n",
       "      <td>...</td>\n",
       "      <td>...</td>\n",
       "      <td>...</td>\n",
       "      <td>...</td>\n",
       "      <td>...</td>\n",
       "    </tr>\n",
       "    <tr>\n",
       "      <th>364</th>\n",
       "      <td>AUS</td>\n",
       "      <td>Cert_I_II</td>\n",
       "      <td>47697</td>\n",
       "      <td>25_34</td>\n",
       "      <td>AUS</td>\n",
       "      <td>332529</td>\n",
       "      <td>1500_1749</td>\n",
       "    </tr>\n",
       "    <tr>\n",
       "      <th>365</th>\n",
       "      <td>AUS</td>\n",
       "      <td>Cert_I_II</td>\n",
       "      <td>47697</td>\n",
       "      <td>25_34</td>\n",
       "      <td>AUS</td>\n",
       "      <td>220982</td>\n",
       "      <td>1750_1999</td>\n",
       "    </tr>\n",
       "    <tr>\n",
       "      <th>366</th>\n",
       "      <td>AUS</td>\n",
       "      <td>Cert_I_II</td>\n",
       "      <td>47697</td>\n",
       "      <td>25_34</td>\n",
       "      <td>AUS</td>\n",
       "      <td>318795</td>\n",
       "      <td>2000_2999</td>\n",
       "    </tr>\n",
       "    <tr>\n",
       "      <th>367</th>\n",
       "      <td>AUS</td>\n",
       "      <td>Cert_I_II</td>\n",
       "      <td>47697</td>\n",
       "      <td>25_34</td>\n",
       "      <td>AUS</td>\n",
       "      <td>53684</td>\n",
       "      <td>3000_3499</td>\n",
       "    </tr>\n",
       "    <tr>\n",
       "      <th>368</th>\n",
       "      <td>AUS</td>\n",
       "      <td>Cert_I_II</td>\n",
       "      <td>47697</td>\n",
       "      <td>25_34</td>\n",
       "      <td>AUS</td>\n",
       "      <td>57109</td>\n",
       "      <td>3500_more</td>\n",
       "    </tr>\n",
       "  </tbody>\n",
       "</table>\n",
       "<p>369 rows × 7 columns</p>\n",
       "</div>"
      ],
      "text/plain": [
       "    AUS_CODE_2021_x Education_Level  Count2 Age_Group AUS_CODE_2021_y   Count  \\\n",
       "0               AUS       PGrad_Deg  398318     35_44             AUS  216035   \n",
       "1               AUS       PGrad_Deg  398318     35_44             AUS  292552   \n",
       "2               AUS       PGrad_Deg  398318     35_44             AUS  366480   \n",
       "3               AUS       PGrad_Deg  398318     35_44             AUS  306625   \n",
       "4               AUS       PGrad_Deg  398318     35_44             AUS  296117   \n",
       "..              ...             ...     ...       ...             ...     ...   \n",
       "364             AUS       Cert_I_II   47697     25_34             AUS  332529   \n",
       "365             AUS       Cert_I_II   47697     25_34             AUS  220982   \n",
       "366             AUS       Cert_I_II   47697     25_34             AUS  318795   \n",
       "367             AUS       Cert_I_II   47697     25_34             AUS   53684   \n",
       "368             AUS       Cert_I_II   47697     25_34             AUS   57109   \n",
       "\n",
       "    Income_Range  \n",
       "0        650_799  \n",
       "1        800_999  \n",
       "2      1000_1249  \n",
       "3      1250_1499  \n",
       "4      1500_1749  \n",
       "..           ...  \n",
       "364    1500_1749  \n",
       "365    1750_1999  \n",
       "366    2000_2999  \n",
       "367    3000_3499  \n",
       "368    3500_more  \n",
       "\n",
       "[369 rows x 7 columns]"
      ]
     },
     "execution_count": 41,
     "metadata": {},
     "output_type": "execute_result"
    }
   ],
   "source": [
    "# Merge the Education data and the Income data, using Age_Group\n",
    "merged_data=pd.merge(df_edu_new,df_income_new2,on='Age_Group', how='inner')\n",
    "merged_data"
   ]
  },
  {
   "cell_type": "code",
   "execution_count": 45,
   "metadata": {},
   "outputs": [],
   "source": [
    "# Calculate the total population by Age Group\n",
    "total_population_by_age = df_edu_new.groupby('Age_Group')['Count2'].sum().reset_index()\n",
    "total_population_by_age.columns = ['Age_Group', 'Total']\n",
    "\n",
    "# Merge total population with the Income Data\n",
    "merged_income = df_income_new2.merge(total_population_by_age, on='Age_Group')\n",
    "\n",
    "# Merge Education and Income data for further analysis\n",
    "merged_data = df_edu_new.merge(merged_income, on='Age_Group', how='inner')\n",
    "\n",
    "# Calculate estimated counts of individuals in each Education Level within Income Groups\n",
    "merged_data['Estimated_Count'] = (merged_data['Count2'] / merged_data['Total']) * merged_data['Count']"
   ]
  },
  {
   "cell_type": "code",
   "execution_count": 46,
   "metadata": {},
   "outputs": [],
   "source": [
    "# Function to calculate the average within an Income Range\n",
    "def calculate_average(income_range):\n",
    "    if income_range == '0':\n",
    "        average = int(income_range)\n",
    "    elif 'more' not in income_range :\n",
    "        bounds=[]\n",
    "        if '-' in income_range:\n",
    "            bounds = income_range.split('-')\n",
    "        elif '_' in income_range:\n",
    "            bounds= income_range.split('_')\n",
    "        average = (int(bounds[0])+int(bounds[1]))/2\n",
    "    else:\n",
    "        if '_' in income_range:\n",
    "            income=income_range.replace('_more','')\n",
    "        else:\n",
    "            income = income_range.replace(' or more','')\n",
    "        average = int(income)\n",
    "    return average"
   ]
  },
  {
   "cell_type": "code",
   "execution_count": 47,
   "metadata": {},
   "outputs": [],
   "source": [
    "# Apply the calculate_average function to each Income_Range, store it in a column called Income_Average\n",
    "merged_data['Income_Average']=merged_data['Income_Range'].apply(calculate_average)\n",
    "# Calculate the contribution using this formula: Average Income * Estimated Count\n",
    "merged_data['Contribution']=merged_data['Income_Average']*merged_data['Estimated_Count']\n",
    "# Group by Education Level and Age Group to sum the Total Weighted Income\n",
    "grouped_data = merged_data.groupby(['Education_Level', 'Age_Group']).agg(Tot_weighted_income=('Contribution', 'sum')).reset_index()\n",
    "# Group by Education Level to sum the Total Weighted Income\n",
    "merged_new=grouped_data.groupby('Education_Level').agg(\n",
    "    Tot_weighted_income=('Tot_weighted_income','sum')).reset_index()\n",
    "# Create a column containing the total number of people in each Education Level, using the dataframe created earlier\n",
    "merged_new[\"New_Tot_People\"] = sum_by_education[\"Count2\"]\n",
    "# Create a column called Weighted_Ave storing the Weighted Average Income which is rounded to 3 decimal\n",
    "# Calculate the Weighted Average Income for each Education Level using this formula:Total Weighted Income / Total Number of People \n",
    "merged_new['Weighted_Ave']=np.round(merged_new['Tot_weighted_income']/merged_new['New_Tot_People'],3)\n",
    "# Drop not necessary columns\n",
    "merged_new.drop(columns='Tot_weighted_income',inplace=True)\n",
    "merged_new.drop(columns='New_Tot_People',inplace=True)"
   ]
  },
  {
   "cell_type": "code",
   "execution_count": 68,
   "metadata": {},
   "outputs": [
    {
     "name": "stdout",
     "output_type": "stream",
     "text": [
      "        Education_Level  Weighted_Ave\n",
      "0        AdvDip_and_Dip      1588.615\n",
      "1               BachDeg      1606.309\n",
      "2           Cert_III_IV      1531.627\n",
      "3             Cert_I_II      1266.760\n",
      "4  GradDip_and_GradCert      1672.269\n",
      "5             PGrad_Deg      1739.021\n"
     ]
    }
   ],
   "source": [
    "# Print the data\n",
    "print(merged_new)"
   ]
  },
  {
   "cell_type": "code",
   "execution_count": 70,
   "metadata": {},
   "outputs": [],
   "source": [
    "merged_new.to_csv('b.csv', index=False)"
   ]
  },
  {
   "cell_type": "code",
   "execution_count": 71,
   "metadata": {},
   "outputs": [
    {
     "name": "stdout",
     "output_type": "stream",
     "text": [
      "                     DATAFLOW AGE_CEN18_WRK_017: Age group  \\\n",
      "0  STATSNZ:CEN18_WRK_017(1.0)               2: 15-29 years   \n",
      "1  STATSNZ:CEN18_WRK_017(1.0)               2: 15-29 years   \n",
      "2  STATSNZ:CEN18_WRK_017(1.0)               2: 15-29 years   \n",
      "3  STATSNZ:CEN18_WRK_017(1.0)               2: 15-29 years   \n",
      "4  STATSNZ:CEN18_WRK_017(1.0)               2: 15-29 years   \n",
      "\n",
      "  AREA_CEN18_WRK_017: Area HIGHESTQUALS_CEN18_WRK_017: Highest qualification  \\\n",
      "0  001: Far North District                             000: No qualification   \n",
      "1  001: Far North District                             000: No qualification   \n",
      "2  001: Far North District                             000: No qualification   \n",
      "3  001: Far North District                             000: No qualification   \n",
      "4  001: Far North District                             000: No qualification   \n",
      "\n",
      "  INCOME_CEN18_WRK_017: Total personal income SEX_CEN18_WRK_017: Sex  \\\n",
      "0                                    11: Loss                1: Male   \n",
      "1                                    11: Loss                1: Male   \n",
      "2                                    11: Loss              2: Female   \n",
      "3                                    11: Loss              2: Female   \n",
      "4                                    11: Loss  9: Total people - sex   \n",
      "\n",
      "   YEAR_CEN18_WRK_017: Year  OBS_VALUE OBS_STATUS: Observation status  \n",
      "0                      2013       24.0                            NaN  \n",
      "1                      2018       21.0                            NaN  \n",
      "2                      2013       12.0                            NaN  \n",
      "3                      2018       18.0                            NaN  \n",
      "4                      2013       36.0                            NaN  \n"
     ]
    }
   ],
   "source": [
    "# Print the first few rows of the New Zealand data to understand its structure\n",
    "print(data_c.head())"
   ]
  },
  {
   "cell_type": "code",
   "execution_count": 72,
   "metadata": {},
   "outputs": [
    {
     "name": "stdout",
     "output_type": "stream",
     "text": [
      "                     DATAFLOW AGE_CEN18_WRK_017: Age group  \\\n",
      "1  STATSNZ:CEN18_WRK_017(1.0)               2: 15-29 years   \n",
      "3  STATSNZ:CEN18_WRK_017(1.0)               2: 15-29 years   \n",
      "5  STATSNZ:CEN18_WRK_017(1.0)               2: 15-29 years   \n",
      "7  STATSNZ:CEN18_WRK_017(1.0)               2: 15-29 years   \n",
      "9  STATSNZ:CEN18_WRK_017(1.0)               2: 15-29 years   \n",
      "\n",
      "  AREA_CEN18_WRK_017: Area HIGHESTQUALS_CEN18_WRK_017: Highest qualification  \\\n",
      "1  001: Far North District                             000: No qualification   \n",
      "3  001: Far North District                             000: No qualification   \n",
      "5  001: Far North District                             000: No qualification   \n",
      "7  001: Far North District                             000: No qualification   \n",
      "9  001: Far North District                             000: No qualification   \n",
      "\n",
      "  INCOME_CEN18_WRK_017: Total personal income SEX_CEN18_WRK_017: Sex  \\\n",
      "1                                    11: Loss                1: Male   \n",
      "3                                    11: Loss              2: Female   \n",
      "5                                    11: Loss  9: Total people - sex   \n",
      "7                             12: Zero income                1: Male   \n",
      "9                             12: Zero income              2: Female   \n",
      "\n",
      "   YEAR_CEN18_WRK_017: Year  OBS_VALUE OBS_STATUS: Observation status  \n",
      "1                      2018       21.0                            NaN  \n",
      "3                      2018       18.0                            NaN  \n",
      "5                      2018       39.0                            NaN  \n",
      "7                      2018      324.0                            NaN  \n",
      "9                      2018      255.0                            NaN  \n"
     ]
    }
   ],
   "source": [
    "# Filter the rows for 2018\n",
    "data_c_in2018=data_c[data_c[\"YEAR_CEN18_WRK_017: Year\"]==2018]\n",
    "print(data_c_in2018.head())"
   ]
  },
  {
   "cell_type": "code",
   "execution_count": 74,
   "metadata": {},
   "outputs": [],
   "source": [
    "# Select columns relevant to the analysis\n",
    "rename_c = data_c_in2018[\n",
    "    ['HIGHESTQUALS_CEN18_WRK_017: Highest qualification',\n",
    "     'INCOME_CEN18_WRK_017: Total personal income',\n",
    "    'OBS_VALUE']\n",
    "]\n",
    "\n",
    "# Rename columns\n",
    "rename_c = rename_c.rename(columns={\n",
    "    'HIGHESTQUALS_CEN18_WRK_017: Highest qualification': 'Education_Level',\n",
    "    'INCOME_CEN18_WRK_017: Total personal income': 'Income_Range',\n",
    "    'OBS_VALUE':'Count'\n",
    "})"
   ]
  },
  {
   "cell_type": "code",
   "execution_count": 76,
   "metadata": {},
   "outputs": [],
   "source": [
    "# Filter out rows with irrelevant data in 'Income_Range' using its pattern\n",
    "Filtered_c = rename_c[~rename_c['Income_Range'].str.contains(r'7777:|99:|999:|11:')]\n",
    "# Filter out rows with irrelevant data in 'Education_Level' using its pattern\n",
    "Filtered_c_new = Filtered_c[~Filtered_c['Education_Level'].str.contains(r'7777:|999:|9999:',regex=True)]\n",
    "\n",
    "# Shorten the values for Education_Level and Income_Range\n",
    "Filtered_c_new=Filtered_c_new.copy()\n",
    "# Split the values using ': ', and only extract the part after ': '\n",
    "Filtered_c_new['Education_Level']=Filtered_c_new['Education_Level'].str.split(': ').str[1]\n",
    "Filtered_c_new['Income_Range']=Filtered_c_new['Income_Range'].str.split(': ').str[1]"
   ]
  },
  {
   "cell_type": "code",
   "execution_count": 83,
   "metadata": {},
   "outputs": [],
   "source": [
    "# Function to clean the Income_Range, which will remove unnecessary characters or replace by number\n",
    "def clean_income(income_range):\n",
    "    if '$' in income_range:\n",
    "        income_range=income_range.replace('$','')\n",
    "    elif income_range == 'Zero income':\n",
    "        income_range = income_range.replace('Zero income','0')\n",
    "    income_range = income_range.replace(',','')\n",
    "    return income_range"
   ]
  },
  {
   "cell_type": "code",
   "execution_count": 84,
   "metadata": {},
   "outputs": [],
   "source": [
    "# Clean each row of the Income_Range using the function clean_income\n",
    "Filtered_c_new['Income_Range']=Filtered_c_new['Income_Range'].apply(clean_income)"
   ]
  },
  {
   "cell_type": "code",
   "execution_count": 85,
   "metadata": {},
   "outputs": [
    {
     "name": "stdout",
     "output_type": "stream",
     "text": [
      "['0' '1-5000' '5001-10000' '10001-15000' '15001-20000' '20001-25000'\n",
      " '25001-30000' '30001-35000' '35001-40000' '40001-50000' '50001-60000'\n",
      " '60001-70000' '70001-100000' '100001-150000' '150001 or more']\n"
     ]
    }
   ],
   "source": [
    "# Double check whether the values are cleaned \n",
    "unique_age_groups = Filtered_c_new['Income_Range'].unique()\n",
    "print(unique_age_groups)\n",
    "unique_age_groups2 = Filtered_c_new['Education_Level'].unique()\n",
    "print(unique_age_groups2)"
   ]
  },
  {
   "cell_type": "code",
   "execution_count": 90,
   "metadata": {},
   "outputs": [],
   "source": [
    "# For the comparison with Australia, combine some categories into one, rename some Education Level\n",
    "Filtered_c_new['Education_Level']=Filtered_c_new['Education_Level'].replace({'Level 1 certificate':'Level 1 & 2 certificate',\n",
    "                                                                             'Level 2 certificate':'Level 1 & 2 certificate',\n",
    "                                                                             'Level 3 certificate':'Level 3 & 4 certificate',\n",
    "                                                                             'Level 4 certificate':'Level 3 & 4 certificate',\n",
    "                                                                             'Level 5 diploma':'Level 5 & 6 diploma',\n",
    "                                                                             'Level 6 diploma':'Level 5 & 6 diploma'})\n",
    "# Combine them\n",
    "grouped_c = Filtered_c_new.groupby(['Education_Level','Income_Range'],as_index=False)"
   ]
  },
  {
   "cell_type": "code",
   "execution_count": null,
   "metadata": {},
   "outputs": [],
   "source": [
    "# Sum the total population in each Education Level\n",
    "filtered_grouped_c = grouped_c['Count'].sum()\n",
    "# Calculate the Income_Average using function calculate_average\n",
    "filtered_grouped_c['Income_Average']=filtered_grouped_c['Income_Range'].apply(calculate_average)\n",
    "# Calculate the Contribution\n",
    "filtered_grouped_c['Contribution']=filtered_grouped_c['Income_Average']*filtered_grouped_c['Count']\n",
    "# Sum Total Weighted Income and Population in each Education Level\n",
    "Weighted_Income_C=filtered_grouped_c.groupby('Education_Level').agg(\n",
    "    Tot_weighted_income=('Contribution','sum'),Tot_people=('Count','sum')).reset_index()\n",
    "# Calculate Weighted Average Income for each Education Level\n",
    "Weighted_Income_C['Weighted_Ave']=Weighted_Income_C['Tot_weighted_income']/Weighted_Income_C['Tot_people']\n",
    "# The current value is annual\n",
    "# divided into the number of weeks in 2018 which is 52 weeks with 1 day to get weekly weighted income\n",
    "Weighted_Income_C['Weighted_Ave']=np.round(Weighted_Income_C['Weighted_Ave']/52.1429,3)"
   ]
  },
  {
   "cell_type": "code",
   "execution_count": 98,
   "metadata": {},
   "outputs": [],
   "source": [
    "# Drop unnecessary column\n",
    "Weighted_Income_C.drop(columns=['Tot_weighted_income'],inplace=True)\n",
    "Weighted_Income_C.drop(columns=['Tot_people'],inplace=True)"
   ]
  },
  {
   "cell_type": "code",
   "execution_count": 102,
   "metadata": {},
   "outputs": [
    {
     "name": "stdout",
     "output_type": "stream",
     "text": [
      "                             Education_Level  Weighted_Ave\n",
      "0  Bachelor degree and level 7 qualification      1077.552\n",
      "1                           Doctorate degree      1606.787\n",
      "2                    Level 1 & 2 certificate       697.957\n",
      "3                    Level 3 & 4 certificate       761.960\n",
      "4                        Level 5 & 6 diploma       933.794\n",
      "5                             Masters degree      1296.976\n",
      "6                           No qualification       534.006\n",
      "7    Overseas secondary school qualification       634.783\n",
      "8          Post-graduate and honours degrees      1290.286\n"
     ]
    }
   ],
   "source": [
    "print(Weighted_Income_C)"
   ]
  },
  {
   "cell_type": "code",
   "execution_count": 103,
   "metadata": {},
   "outputs": [],
   "source": [
    "# hij\n",
    "Weighted_Income_C.to_csv('Weighted_Income_C.csv', index=False)"
   ]
  },
  {
   "cell_type": "code",
   "execution_count": 104,
   "metadata": {},
   "outputs": [],
   "source": [
    "# visualization\n",
    "# Plot the relationship between education level and average income"
   ]
  },
  {
   "cell_type": "code",
   "execution_count": 105,
   "metadata": {},
   "outputs": [
    {
     "data": {
      "image/png": "[encoded data removed]",
      "text/plain": [
       "<Figure size 1000x600 with 1 Axes>"
      ]
     },
     "metadata": {},
     "output_type": "display_data"
    }
   ],
   "source": [
    "\n",
    "# Get the cleaned data\n",
    "education = Weighted_Income_C['Education_Level'].tolist()\n",
    "income = Weighted_Income_C['Weighted_Ave'].tolist()\n",
    "\n",
    "\n",
    "# Create the bar chart\n",
    "plt.figure(figsize=(10,6)) \n",
    "# Choose Blue as the color of the bar\n",
    "plt.bar(education, income, color='blue')\n",
    "\n",
    "# Add labels and title to make the chart clearer\n",
    "plt.xlabel('Education Level')\n",
    "plt.ylabel('Income')\n",
    "plt.title('Relationship Between Education Level And Income')\n",
    " # Rotate x-axis labels for better readability\n",
    "plt.xticks(rotation=90) \n",
    "\n",
    "# Display the chart\n",
    "plt.show()\n"
   ]
  },
  {
   "cell_type": "code",
   "execution_count": 106,
   "metadata": {},
   "outputs": [
    {
     "data": {
      "image/png": "[encoded data removed]",
      "text/plain": [
       "<Figure size 1000x600 with 1 Axes>"
      ]
     },
     "metadata": {},
     "output_type": "display_data"
    }
   ],
   "source": [
    "# Get the cleaned data\n",
    "education = merged_new['Education_Level'].tolist()\n",
    "income = merged_new['Weighted_Ave'].tolist()\n",
    "\n",
    "# Create the bar chart\n",
    "plt.figure(figsize=(10,6))  # Adjust the figure size as needed\n",
    "# Choose Red as the color of the bar\n",
    "plt.bar(education, income, color='red')  \n",
    "\n",
    "# Add labels and title to make the chart clearer\n",
    "plt.xlabel('Education Level')\n",
    "plt.ylabel('Income')\n",
    "plt.title('Relationship Between Education Level And Income')\n",
    "# Rotate x-axis labels for better readability\n",
    "plt.xticks(rotation=90)  \n",
    "\n",
    "# Display the chart\n",
    "plt.show()\n"
   ]
  }
 ],
 "metadata": {
  "kernelspec": {
   "display_name": "Python 3 (ipykernel)",
   "language": "python",
   "name": "python3"
  },
  "language_info": {
   "codemirror_mode": {
    "name": "ipython",
    "version": 3
   },
   "file_extension": ".py",
   "mimetype": "text/x-python",
   "name": "python",
   "nbconvert_exporter": "python",
   "pygments_lexer": "ipython3",
   "version": "3.11.7"
  },
  "nbgrader": {
   "__altered": false,
   "_root": {
    "entries": [
     [
      "__altered",
      false
     ],
     [
      "__hash",
      -335098374
     ],
     [
      "_root",
      {
       "entries": [
        [
         "cocalc_minimal_stubs",
         false
        ]
       ],
       "ownerID": {}
      }
     ],
     [
      "cocalc_minimal_stubs",
      false
     ],
     [
      "size",
      1
     ]
    ],
    "ownerID": {}
   },
   "cocalc_minimal_stubs": false,
   "size": 5
  }
 },
 "nbformat": 4,
 "nbformat_minor": 4
}
